{
  "nbformat": 4,
  "nbformat_minor": 0,
  "metadata": {
    "colab": {
      "name": "HateSpeechModel.ipynb",
      "provenance": [],
      "collapsed_sections": []
    },
    "kernelspec": {
      "name": "python3",
      "display_name": "Python 3"
    },
    "language_info": {
      "name": "python"
    }
  },
  "cells": [
    {
      "cell_type": "code",
      "metadata": {
        "colab": {
          "base_uri": "https://localhost:8080/"
        },
        "id": "f5vEXQBxD4tf",
        "outputId": "8e874a41-e3ac-4c19-b6c1-d0792fe861bf"
      },
      "source": [
        "#Hate speech recognition\n",
        "from __future__ import absolute_import, division, print_function, unicode_literals\n",
        "import tensorflow as tf\n",
        "print(tf.__version__)"
      ],
      "execution_count": 1,
      "outputs": [
        {
          "output_type": "stream",
          "text": [
            "2.5.0\n"
          ],
          "name": "stdout"
        }
      ]
    },
    {
      "cell_type": "code",
      "metadata": {
        "id": "P7sA6sGCEuMn"
      },
      "source": [
        "import os\n",
        "\n",
        "import numpy as np\n",
        "\n",
        "# For DataFrame object\n",
        "import pandas as pd\n",
        "\n",
        "# Neural Network\n",
        "from keras.models import Sequential\n",
        "from keras.layers import Dense, Dropout\n",
        "from keras.optimizers import RMSprop\n",
        "\n",
        "# Text Vectorizing\n",
        "from keras.preprocessing.text import Tokenizer\n",
        "\n",
        "# Train-test-split\n",
        "from sklearn.model_selection import train_test_split\n",
        "\n",
        "# History visualization\n",
        "%matplotlib inline\n",
        "import matplotlib.pyplot as plt\n",
        "\n",
        "# Normalize\n",
        "from sklearn.preprocessing import normalize"
      ],
      "execution_count": 3,
      "outputs": []
    },
    {
      "cell_type": "code",
      "metadata": {
        "id": "Gsx4mFIEFISk"
      },
      "source": [
        "path = 'labeled.csv' #Need to add labeled hate speech texts!\n",
        "df = pd.read_csv(path)\n",
        "df.head()"
      ],
      "execution_count": null,
      "outputs": []
    },
    {
      "cell_type": "code",
      "metadata": {
        "id": "AV0nBM6YFRwW"
      },
      "source": [
        "def delete_new_line_symbols(text):\n",
        "    text = text.replace('\\n', ' ')\n",
        "    return text\n",
        "df['comment'] = df['comment'].apply(delete_new_line_symbols)\n",
        "df.head()"
      ],
      "execution_count": null,
      "outputs": []
    },
    {
      "cell_type": "code",
      "metadata": {
        "id": "L7wH2McHFXwu"
      },
      "source": [
        "target = np.array(df['toxic'].astype('uint8'))\n",
        "target[:5]"
      ],
      "execution_count": null,
      "outputs": []
    },
    {
      "cell_type": "code",
      "metadata": {
        "id": "VHVZ_tO8Fbmk"
      },
      "source": [
        "tokenizer = Tokenizer(num_words=30000, filters='!\"#$%&()*+,-./:;<=>?@[\\\\]^_`{|}~\\t\\n', \n",
        "                      lower=True, \n",
        "                      split=' ', \n",
        "                      char_level=False)\n",
        "tokenizer.fit_on_texts(df['comment'])\n",
        "matrix = tokenizer.texts_to_matrix(df['comment'], mode='count')\n",
        "matrix.shape"
      ],
      "execution_count": null,
      "outputs": []
    },
    {
      "cell_type": "code",
      "metadata": {
        "id": "9sOAbKIDFjNv"
      },
      "source": [
        "def get_model():\n",
        "    \n",
        "    model = Sequential()\n",
        "    \n",
        "    model.add(Dense(32, activation='relu'))\n",
        "    model.add(Dropout(0.3))\n",
        "    model.add(Dense(16, activation='relu'))\n",
        "    model.add(Dropout(0.3))\n",
        "    model.add(Dense(16, activation='relu'))\n",
        "    model.add(Dense(1, activation='sigmoid'))\n",
        "    \n",
        "    model.compile(optimizer=RMSprop(lr=0.0001), \n",
        "                  loss='binary_crossentropy',\n",
        "                  metrics=['accuracy'])\n",
        "    \n",
        "    return model"
      ],
      "execution_count": null,
      "outputs": []
    },
    {
      "cell_type": "code",
      "metadata": {
        "id": "bXgVYjGgFsoD"
      },
      "source": [
        "X = normalize(matrix)\n",
        "y = target\n",
        "\n",
        "X_train, X_test, y_train, y_test = train_test_split(X, \n",
        "                                                    y,\n",
        "                                                    test_size=0.2)\n",
        "\n",
        "X_train.shape, y_train.shape"
      ],
      "execution_count": null,
      "outputs": []
    },
    {
      "cell_type": "code",
      "metadata": {
        "id": "S1grlcjmFuN5"
      },
      "source": [
        "model = get_model()\n",
        "\n",
        "history = model.fit(X_train, \n",
        "                    y_train, \n",
        "                    epochs=150, \n",
        "                    batch_size=500,\n",
        "                    validation_data=(X_test, y_test))\n",
        "\n",
        "history"
      ],
      "execution_count": null,
      "outputs": []
    },
    {
      "cell_type": "code",
      "metadata": {
        "id": "csTUj4kBFwcH"
      },
      "source": [
        "history = history.history\n",
        "\n",
        "fig = plt.figure(figsize=(20, 10))\n",
        "\n",
        "ax1 = fig.add_subplot(221)\n",
        "ax2 = fig.add_subplot(223)\n",
        "\n",
        "x = range(150)\n",
        "\n",
        "ax1.plot(x, history['acc'], 'b-', label='Accuracy')\n",
        "ax1.plot(x, history['val_acc'], 'r-', label='Validation accuracy')\n",
        "ax1.legend(loc='lower right')\n",
        "\n",
        "ax2.plot(x, history['loss'], 'b-', label='Losses')\n",
        "ax2.plot(x, history['val_loss'], 'r-', label='Validation losses')\n",
        "ax2.legend(loc='upper right')"
      ],
      "execution_count": null,
      "outputs": []
    }
  ]
}